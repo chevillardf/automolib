{
 "cells": [
  {
   "cell_type": "markdown",
   "metadata": {},
   "source": [
    "# autoSAR"
   ]
  },
  {
   "cell_type": "code",
   "execution_count": null,
   "metadata": {
    "scrolled": true
   },
   "outputs": [],
   "source": [
    "import os, sys\n",
    "import pandas as pd\n",
    "import numpy as np\n",
    "import matplotlib.pyplot as plt\n",
    "import seaborn as sns\n",
    "from rdkit import DataStructs, Chem\n",
    "from rdkit.Chem import PandasTools, AllChem\n",
    "import platform\n",
    "import warnings\n",
    "\n",
    "warnings.filterwarnings('ignore')\n",
    "sys.path.append(\"/home/florent/Documents/scripts/utils\")\n",
    "    \n",
    "from mol_descriptors import get_hac, get_hac_df, get_hba, get_hba_df, get_hbd, get_hbd_df, get_logP_df\n",
    "from mol_visualization import show_svg, show_grid\n",
    "from mol_cleaning import standardize_smiles_df\n",
    "from df_tools import parallelize_df\n",
    "from mol_substructures import is_acid_df\n",
    "from mol_fingerprint import get_fp_df, get_tanimoto, get_topN_analogs, get_divers_set, get_2Dph4\n",
    "\n",
    "def rm_queries_from_bbs(df, bb_smi, hits_smi):\n",
    "    filt = df[bb_smi].isin(hits_smi)\n",
    "    df = df[~filt]\n",
    "    return df\n",
    "\n",
    "def create_df_hac(df):\n",
    "    for hac_value in df['hac'].unique():\n",
    "        df_name = f'df_{hac_value}'\n",
    "        globals()[df_name] = df[df['hac'] == hac_value]\n",
    "\n",
    "def restrict_df_ppty(df, ppty_name, ppty_value_ref, ppty_reach):\n",
    "    filt = (df[ppty_name] >= ppty_value_ref-ppty_reach) & (df[ppty_name] <= ppty_value_ref+ppty_reach)\n",
    "    return df[filt]\n",
    "\n",
    "def get_activity_tag(ic50_ref, ppty):\n",
    "    try:\n",
    "        activity_tag = ppty - ic50_ref\n",
    "        if ic50_ref / ppty > 10:\n",
    "            activity_tag = 'gain'\n",
    "        if ic50_ref / ppty > 0.3:\n",
    "            activity_tag = 'no_effect'\n",
    "        else:\n",
    "            activity_tag = 'loss'\n",
    "    except:\n",
    "        activity_tag = None\n",
    "    return activity_tag"
   ]
  },
  {
   "cell_type": "code",
   "execution_count": 8,
   "metadata": {},
   "outputs": [
    {
     "data": {
      "image/png": "[encoded data removed]",
      "text/plain": [
       "<Figure size 504x72 with 1 Axes>"
      ]
     },
     "metadata": {},
     "output_type": "display_data"
    }
   ],
   "source": [
    "sns.set_style(style='white') # for xkcd\n",
    "plt.xkcd() # be sure to rm -r .cache/matplotlib/ to get the font correctly\n",
    "sns.set_context(\"paper\", font_scale=3)  \n",
    "idorsia_colors = ['#FF3300','#0093DD', '#3E9E1F','#541471', '#D90373', '#808080', '#999999']\n",
    "sns.set_palette(sns.color_palette(idorsia_colors))\n",
    "sns.palplot(sns.color_palette(idorsia_colors)) # check colors"
   ]
  },
  {
   "cell_type": "markdown",
   "metadata": {},
   "source": [
    "#### Format ChemShop BBs + add descriptors"
   ]
  },
  {
   "cell_type": "code",
   "execution_count": null,
   "metadata": {},
   "outputs": [],
   "source": [
    "df_bbs = PandasTools.LoadSDF('../data/', smilesName='mol_smi', molColName='ROMol')\n",
    "df_bbs = df_bbs[['mol_smi', 'Barcode']]\n",
    "df_bbs.columns = ['bb_smi', 'bb_id']"
   ]
  },
  {
   "cell_type": "code",
   "execution_count": null,
   "metadata": {},
   "outputs": [],
   "source": [
    "df_bbs"
   ]
  },
  {
   "cell_type": "code",
   "execution_count": null,
   "metadata": {},
   "outputs": [],
   "source": [
    "df_bbs[['bb_smi']] = parallelize_df(df_bbs, clean_smiles_df, 28, 'bb_smi')[['bb_smi']]"
   ]
  },
  {
   "cell_type": "code",
   "execution_count": null,
   "metadata": {},
   "outputs": [],
   "source": [
    "df_bbs[['is_acid']] = parallelize_df(df_bbs, is_acid_df, 28, 'bb_smi')[['is_acid']]"
   ]
  },
  {
   "cell_type": "code",
   "execution_count": null,
   "metadata": {},
   "outputs": [],
   "source": [
    "filt = df_bbs['is_acid'] == True # same salt were acids\n",
    "df_bbs = df_bbs[filt]\n",
    "df_bbs = df_bbs.drop_duplicates(subset='bb_smi', keep=\"first\", inplace=False)"
   ]
  },
  {
   "cell_type": "code",
   "execution_count": null,
   "metadata": {},
   "outputs": [],
   "source": [
    "df_bbs = df_bbs[['bb_smi', 'bb_id']]\n",
    "df_bbs[['hac']] = parallelize_df(df_bbs, get_hac_df, 28, 'bb_smi')[['hac']]\n",
    "df_bbs[['hba']] = parallelize_df(df_bbs, get_hba_df, 28, 'bb_smi')[['hba']]\n",
    "df_bbs[['hbd']] = parallelize_df(df_bbs, get_hbd_df, 28, 'bb_smi')[['hbd']]\n",
    "df_bbs[['logP']] = parallelize_df(df_bbs, get_logP_df, 28, 'bb_smi')[['logP']]"
   ]
  },
  {
   "cell_type": "code",
   "execution_count": 185,
   "metadata": {},
   "outputs": [],
   "source": [
    "df_bbs = pd.read_csv('../data/', sep=' ')\n",
    "df_bbs['hbv'] = df_bbs['hba'] + df_bbs['hbd']"
   ]
  },
  {
   "cell_type": "code",
   "execution_count": 186,
   "metadata": {},
   "outputs": [],
   "source": [
    "fp_name = 'fcfp'\n",
    "fp_radius = 2\n",
    "fp_tag = fp_name+str(fp_radius*2)"
   ]
  },
  {
   "cell_type": "code",
   "execution_count": 187,
   "metadata": {},
   "outputs": [],
   "source": [
    "df_bbs[[fp_tag]] = parallelize_df(df_bbs, get_fp_df, 28, 'bb_smi', fp_name, fp_radius)[[fp_tag]]"
   ]
  },
  {
   "cell_type": "code",
   "execution_count": 188,
   "metadata": {},
   "outputs": [],
   "source": [
    "bk = df_bbs"
   ]
  },
  {
   "cell_type": "markdown",
   "metadata": {},
   "source": [
    "#### Remove inactives + analogs from inactives"
   ]
  },
  {
   "cell_type": "code",
   "execution_count": 169,
   "metadata": {},
   "outputs": [],
   "source": [
    "df_sar = PandasTools.LoadSDF('../data/foo.sdf', smilesName='mol_smi', molColName='ROMol')\n",
    "filt = (df_sar['Tag'] == 'LHS') & (df_sar['Round'] == 'Round 1')\n",
    "#filt = (df_sar['Tag'] == 'LHS')\n",
    "df_r1 = df_sar[filt]"
   ]
  },
  {
   "cell_type": "code",
   "execution_count": 171,
   "metadata": {},
   "outputs": [],
   "source": [
    "PandasTools.AddMoleculeColumnToFrame(df_r1,'bb_smi','ROMol')"
   ]
  },
  {
   "cell_type": "code",
   "execution_count": 172,
   "metadata": {},
   "outputs": [],
   "source": [
    "ppty = 'foo.IC50 [nmol/l]'\n",
    "df_r1[ppty] = df_r1[ppty].apply(get_median_value).astype(float)\n",
    "df_r1[\"activity_tag\"] = df_r1[ppty].apply(get_activity_tag)\n",
    "filt = df_r1['activity_tag'] == 'loss'\n",
    "df_inactive = df_r1[filt]\n",
    "df_inactive['bb_smi'] = df_inactive['bb_smi'].apply(clean_smiles)"
   ]
  },
  {
   "cell_type": "code",
   "execution_count": 173,
   "metadata": {},
   "outputs": [],
   "source": [
    "PandasTools.WriteSDF(df_r1, '../data/foo.sdf', molColName='ROMol', \n",
    "                     idName='ID', properties=list(df_r1.columns), allNumeric=False)"
   ]
  },
  {
   "cell_type": "code",
   "execution_count": 17,
   "metadata": {},
   "outputs": [],
   "source": [
    "df_bbs = bk\n",
    "inactives_smi = df_inactive['bb_smi'].tolist()\n",
    "df_bbs = rm_queries_from_bbs(df_bbs, 'bb_smi', inactives_smi)"
   ]
  },
  {
   "cell_type": "code",
   "execution_count": 14,
   "metadata": {},
   "outputs": [],
   "source": [
    "# ongoing"
   ]
  },
  {
   "cell_type": "code",
   "execution_count": null,
   "metadata": {},
   "outputs": [],
   "source": [
    "hit_smi = clean_smiles('Cn1nccc1C(=O)O')\n",
    "inactive_mol = Chem.MolFromSmiles(hit_smi)\n",
    "inactives_smi = [hit_smi]\n",
    "hit_mol"
   ]
  },
  {
   "cell_type": "code",
   "execution_count": 36,
   "metadata": {},
   "outputs": [],
   "source": [
    "topN = get_topN_analogs(df_bbs, inactive_mol, fp_name, fp_radius, 15)"
   ]
  },
  {
   "cell_type": "code",
   "execution_count": null,
   "metadata": {},
   "outputs": [],
   "source": [
    "topN"
   ]
  },
  {
   "cell_type": "code",
   "execution_count": null,
   "metadata": {},
   "outputs": [],
   "source": [
    "show_grid(topN, 'bb_smi', 'bb_id', 50, 5)"
   ]
  },
  {
   "cell_type": "markdown",
   "metadata": {},
   "source": [
    "#### Highlight key features"
   ]
  },
  {
   "cell_type": "markdown",
   "metadata": {},
   "source": [
    "see highlight_sar.ipynb"
   ]
  },
  {
   "cell_type": "markdown",
   "metadata": {},
   "source": [
    "#### Get analogs from hit"
   ]
  },
  {
   "cell_type": "code",
   "execution_count": null,
   "metadata": {},
   "outputs": [],
   "source": [
    "# Approach 1: pure FP analogs, ensure HAC diversity\n",
    "def get_range_ppty_topN_analogs(ppty_value_ref, ppty_reach, lowest_topN):\n",
    "    ppty_range = list(range(ppty_value_ref - ppty_reach, ppty_value_ref + ppty_reach + 1))\n",
    "    all_topN_analogs = []\n",
    "    \n",
    "    for ppty_value in ppty_range:\n",
    "        if ppty_value == ppty_range[0] or ppty_value == ppty_range[-1]:\n",
    "            topN = lowest_topN\n",
    "        else:\n",
    "            topN = lowest_topN * 2\n",
    "        df_name = f'df_{ppty_value}'\n",
    "        current_df = globals()[df_name]\n",
    "        topN_analogs = get_topN_analogs(current_df, hit_mol, fp_name, fp_radius, topN, True)\n",
    "        all_topN_analogs.append(topN_analogs)\n",
    "    combined_topN_analogs = pd.concat(all_topN_analogs, ignore_index=True)\n",
    "    return combined_topN_analogs"
   ]
  },
  {
   "cell_type": "code",
   "execution_count": null,
   "metadata": {},
   "outputs": [],
   "source": [
    "def get_range_ppty_topN_analogs(ppty_value_ref, ppty_reach, lowest_topN, **kwargs):\n",
    "    ppty_range = list(range(ppty_value_ref - ppty_reach, ppty_value_ref + ppty_reach + 1))\n",
    "    all_topN_analogs = []\n",
    "    \n",
    "    for ppty_value in ppty_range:\n",
    "        if ppty_value == ppty_range[0] or ppty_value == ppty_range[-1]:\n",
    "            topN = lowest_topN\n",
    "        else:\n",
    "            topN = lowest_topN * 2\n",
    "        df_name = f'df_{ppty_value}'\n",
    "        current_df = globals()[df_name]\n",
    "        topN_analogs = get_topN_analogs(current_df, **kwargs)\n",
    "        all_topN_analogs.append(topN_analogs)\n",
    "    combined_topN_analogs = pd.concat(all_topN_analogs, ignore_index=True)\n",
    "    return combined_topN_analogs\n",
    "\n",
    "def get_topN_analogs(df, query, fp_name, fp_radius, topN, rm_exact_match=False):\n",
    "    try:\n",
    "        fp_tag = fp_name + str(fp_radius * 2)\n",
    "        if fp_name == 'fcfp':\n",
    "            query_fp = AllChem.GetMorganFingerprint(query, fp_radius, useFeatures=True)\n",
    "        elif fp_name == 'ecfp':\n",
    "            query_fp = AllChem.GetMorganFingerprint(query, fp_radius, useFeatures=False)\n",
    "        else:\n",
    "            query_fp = get_2Dph4(Chem.MolToSmiles(query))\n",
    "        df['tanimoto_' + fp_tag] = df.apply(lambda x: get_tanimoto(query_fp, x[fp_tag]), axis=1)\n",
    "        if rm_exact_match:\n",
    "            df = df[df['tanimoto_' + fp_tag] != 1.00]\n",
    "        topN_analogs = df.sort_values(by=['tanimoto_' + fp_tag], ascending=False).head(topN)\n",
    "    except:\n",
    "        print('FP issue: check args! Did you calculate FP in df?')\n",
    "        topN_analogs = None\n",
    "    return topN_analogs\n",
    "\n",
    "result = get_range_ppty_topN_analogs(query_hac, 2, 2, df=df, query=query, fp_name=fp_name, fp_radius=fp_radius, topN=topN)"
   ]
  },
  {
   "cell_type": "code",
   "execution_count": null,
   "metadata": {},
   "outputs": [],
   "source": [
    "# Approach 2: FP analogs enforcing -1,0,+1 hbv distribution\n",
    "# ongoing\n",
    "def get_range_ppty_topN_analogs(ppty_value_ref, ppty_reach, lowest_topN, hbv_value_ref, hbv_range):\n",
    "    ppty_range = list(range(ppty_value_ref - ppty_reach, ppty_value_ref + ppty_reach + 1))\n",
    "    all_topN_analogs = []\n",
    "    \n",
    "    for ppty_value in ppty_range:\n",
    "        if ppty_value == ppty_range[0] or ppty_value == ppty_range[-1]:\n",
    "            topN = lowest_topN\n",
    "        else:\n",
    "            topN = lowest_topN * 2\n",
    "        df_name = f'df_{ppty_value}'\n",
    "        current_df = globals()[df_name]\n",
    "        topN_analogs = get_topN_analogs(current_df, hit_mol, fp_name, fp_radius, int(topN/2), hbv_value_ref, hbv_range)\n",
    "        all_topN_analogs.append(topN_analogs)\n",
    "    combined_topN_analogs = pd.concat(all_topN_analogs, ignore_index=True)\n",
    "    return combined_topN_analogs\n",
    "\n",
    "def get_topN_analogs(df, query, fp_name, fp_radius, topN, ppty_value_ref, ppty_reach):\n",
    "    try:\n",
    "        fp_tag = fp_name + str(fp_radius * 2)\n",
    "        ppty_range = list(range(ppty_value_ref - ppty_reach, ppty_value_ref + ppty_reach + 1))\n",
    "        diverse_analogs = []\n",
    "        \n",
    "        if fp_name == 'fcfp':\n",
    "            query_fp = AllChem.GetMorganFingerprint(query, fp_radius, useFeatures=True)\n",
    "        elif fp_name == 'ecfp':\n",
    "            query_fp = AllChem.GetMorganFingerprint(query, fp_radius, useFeatures=False)\n",
    "        else:\n",
    "            query_fp = get_2Dph4(Chem.MolToSmiles(query))\n",
    "        df['tanimoto_' + fp_tag] = df.apply(lambda x: get_tanimoto(query_fp, x[fp_tag]), axis=1)\n",
    "        df = df[df['tanimoto_' + fp_tag] != 1.00] \n",
    "        \n",
    "        for hbv_value in ppty_range:\n",
    "            hbv_df = df[df['hbv'] == hbv_value]\n",
    "            topN_hbv = hbv_df.sort_values(by=['tanimoto_' + fp_tag], ascending=False).head(topN)\n",
    "            diverse_analogs.append(topN_hbv)\n",
    "        \n",
    "        topN_analogs = pd.concat(diverse_analogs, ignore_index=True) \n",
    "        \n",
    "        return topN_analogs\n",
    "    \n",
    "    except:\n",
    "        print('FP issue: check args! Did you calculate FP in df?')\n",
    "        return None"
   ]
  },
  {
   "cell_type": "code",
   "execution_count": null,
   "metadata": {},
   "outputs": [],
   "source": [
    "df_bbs = bk\n",
    "#hit_smi = clean_smiles('O=C(O)c1cc[nH]n1')\n",
    "hit_smi = clean_smiles('O=C(O)c1ccccc1')\n",
    "hit_mol = Chem.MolFromSmiles(hit_smi)\n",
    "hits_smi = [hit_smi]\n",
    "query_hac, query_hba, query_hbd = get_hac(hit_smi), get_hba(hit_smi), get_hbd(hit_smi)\n",
    "query_hbv = query_hba + query_hbd"
   ]
  },
  {
   "cell_type": "code",
   "execution_count": null,
   "metadata": {},
   "outputs": [],
   "source": [
    "df_bbs = rm_queries_from_bbs(df_bbs, 'bb_smi', hits_smi)\n",
    "df_bbs = restrict_df_ppty(df_bbs, 'hbv', query_hbv, 1)\n",
    "create_df_hac(df_bbs)"
   ]
  },
  {
   "cell_type": "code",
   "execution_count": null,
   "metadata": {},
   "outputs": [],
   "source": [
    "#topN = get_range_ppty_topN_analogs(query_hac, 2, 2) # approach 1\n",
    "topN = get_range_ppty_topN_analogs(query_hac, 2, 2, query_hbv, 1) # approach 2\n",
    "topN['bb_id_sim'] = topN['bb_id'] + '_' + topN['tanimoto_'+fp_tag].astype(str)"
   ]
  },
  {
   "cell_type": "code",
   "execution_count": null,
   "metadata": {},
   "outputs": [],
   "source": [
    "topN"
   ]
  },
  {
   "cell_type": "code",
   "execution_count": null,
   "metadata": {},
   "outputs": [],
   "source": [
    "filt = topN['hac'] == 8\n",
    "tmp = topN[filt]"
   ]
  },
  {
   "cell_type": "code",
   "execution_count": null,
   "metadata": {},
   "outputs": [],
   "source": [
    "show_grid(tmp, 'bb_smi', 'bb_id_sim', 20, 2)"
   ]
  },
  {
   "cell_type": "markdown",
   "metadata": {},
   "source": [
    "#### Debug"
   ]
  },
  {
   "cell_type": "code",
   "execution_count": null,
   "metadata": {},
   "outputs": [],
   "source": [
    "clean_smiles('C=C(C)C(=O)O.C=CC(=O)OCC')"
   ]
  },
  {
   "cell_type": "code",
   "execution_count": null,
   "metadata": {},
   "outputs": [],
   "source": [
    "get_divers_set(topN, 3, 'fcfp4')"
   ]
  },
  {
   "cell_type": "markdown",
   "metadata": {},
   "source": [
    "#### Merge DFs"
   ]
  },
  {
   "cell_type": "code",
   "execution_count": null,
   "metadata": {},
   "outputs": [],
   "source": [
    "frames = [df_fcfp, df_ecfp, df_ph4]\n",
    "df_fp = pd.concat(frames).reset_index()\n",
    "df_fp.drop_duplicates(subset='mol_id', inplace=True)"
   ]
  },
  {
   "cell_type": "markdown",
   "metadata": {},
   "source": [
    "### Plots"
   ]
  },
  {
   "cell_type": "code",
   "execution_count": null,
   "metadata": {},
   "outputs": [],
   "source": [
    "sns.countplot(x=\"hac\", data=topN)"
   ]
  },
  {
   "cell_type": "code",
   "execution_count": null,
   "metadata": {},
   "outputs": [],
   "source": [
    "# Countplot for each df_bb_hac: df_5, df_6, ... Gaussian distribution\n",
    "dfs_counts = []\n",
    "for hac_value in df_bbs['hac'].unique():\n",
    "    df_name = f'df_{hac_value}'\n",
    "    globals()[df_name] = df_bbs[df_bbs['hac'] == hac_value]\n",
    "    row_count = len(globals()[df_name])\n",
    "    dfs_counts.append({'DataFrame': df_name, 'count': row_count})\n",
    "\n",
    "df_counts = pd.DataFrame(dfs_counts)\n",
    "df_counts['DataFrame'] = df_counts['DataFrame'].str.split('_').str[1].astype(int)\n",
    "df_counts = df_counts.sort_values(by='DataFrame', ascending=True)\n",
    "\n",
    "plt.figure(figsize=(16, 6))\n",
    "ax = sns.barplot(x=\"DataFrame\", y=\"count\", data=df_counts[:25])\n",
    "ax.set_xticklabels(ax.get_xticklabels(), rotation=45, ha=\"right\")"
   ]
  },
  {
   "cell_type": "code",
   "execution_count": null,
   "metadata": {},
   "outputs": [],
   "source": [
    "plt.figure(figsize=(12, 8))\n",
    "sns.countplot(data=df, x=\"Substance Date\", hue='Tag')\n",
    "plt.xticks(rotation=60)\n",
    "plt.xlabel('')\n",
    "#plt.legend(bbox_to_anchor=(1.05, 1), loc=2, borderaxespad=0., markerscale=5)\n",
    "plt.legend(bbox_to_anchor=(.9, 1.15), loc=1, ncol=3, borderaxespad=0, markerscale=3) "
   ]
  },
  {
   "cell_type": "code",
   "execution_count": null,
   "metadata": {},
   "outputs": [],
   "source": [
    "plt.figure(figsize=(2, 8)) # HAC for BBs\n",
    "jitter_vertical = 0.1\n",
    "tmp['HBAj'] = tmp['HAC'] + np.random.uniform(low=-jitter_vertical, high=jitter_vertical, size=len(tmp))\n",
    "fig = sns.stripplot(data=tmp, x=\"Round\", y='HBAj', size=12,jitter=0.1)\n",
    "plt.xticks(rotation=60)\n",
    "#plt.yticks([1, 2,3,4,5])\n",
    "plt.xlabel('')\n",
    "plt.ylabel('HAC')\n",
    "plt.axhline(9, color='#FF3300', linestyle='--')\n",
    "#plt.axhline(1, color='#0093DD', linestyle='--')"
   ]
  },
  {
   "cell_type": "code",
   "execution_count": null,
   "metadata": {},
   "outputs": [],
   "source": [
    "plt.figure(figsize=(12, 8))\n",
    "jitter_vertical = 0.25\n",
    "df['HBAj'] = df['HBA'] + np.random.uniform(low=-jitter_vertical, high=jitter_vertical, size=len(df))\n",
    "fig = sns.stripplot(data=df, x=\"Substance Date\", y='HBAj', hue='Tag',size=12,jitter=0.25)\n",
    "plt.xticks(rotation=60)\n",
    "plt.xlabel('')\n",
    "plt.ylabel('HBA')\n",
    "plt.axhline(4, color='red', linestyle='--')\n",
    "plt.axhline(3.5, color='grey', linestyle='-')\n",
    "plt.axhline(4.5, color='grey', linestyle='-')\n",
    "plt.axhline(5.5, color='grey', linestyle='-')\n",
    "plt.axhline(6.5, color='grey', linestyle='-')\n",
    "plt.legend(bbox_to_anchor=(.9, 1.15), ncol=3, borderaxespad=0, markerscale=3) # legend top center"
   ]
  },
  {
   "cell_type": "code",
   "execution_count": null,
   "metadata": {},
   "outputs": [],
   "source": [
    "plt.figure(figsize=(12, 8))\n",
    "jitter_vertical = 0.25\n",
    "df['HBDj'] = df['HBD'] + np.random.uniform(low=-jitter_vertical, high=jitter_vertical, size=len(df))\n",
    "fig = sns.stripplot(data=df, x=\"Substance Date\", y='HBDj', hue='Tag',size=12,jitter=0.25)\n",
    "plt.xticks(rotation=60)\n",
    "plt.xlabel('')\n",
    "plt.ylabel('HBD')\n",
    "plt.axhline(3, color='red', linestyle='--')\n",
    "plt.axhline(1.5, color='grey', linestyle='-')\n",
    "plt.axhline(2.5, color='grey', linestyle='-')\n",
    "plt.axhline(3.5, color='grey', linestyle='-')\n",
    "plt.legend(bbox_to_anchor=(.9, 1.15), ncol=3, borderaxespad=0, markerscale=3) # legend top center"
   ]
  },
  {
   "cell_type": "code",
   "execution_count": null,
   "metadata": {},
   "outputs": [],
   "source": [
    "plt.figure(figsize=(12, 8))\n",
    "jitter_vertical = 0.25\n",
    "df['HACj'] = df['HAC'] + np.random.uniform(low=-jitter_vertical, high=jitter_vertical, size=len(df))\n",
    "fig = sns.stripplot(data=df, x=\"Substance Date\", y='HACj', hue='Tag',size=12,jitter=0.25)\n",
    "plt.xticks(rotation=60)\n",
    "plt.xlabel('')\n",
    "plt.ylabel('HAC')\n",
    "plt.axhline(25, color='red', linestyle='--')\n",
    "plt.legend(bbox_to_anchor=(.9, 1.15), ncol=3, borderaxespad=0, markerscale=3) # legend top center"
   ]
  },
  {
   "cell_type": "code",
   "execution_count": null,
   "metadata": {},
   "outputs": [],
   "source": [
    "plt.figure(figsize=(12, 8)) # HAC for BBs\n",
    "jitter_vertical = 0.25\n",
    "df_bb['HACj'] = df_bb['HAC'] + np.random.uniform(low=-jitter_vertical, high=jitter_vertical, size=len(df_bb))\n",
    "fig = sns.stripplot(data=df_bb, x=\"Substance Date\", y='HACj', hue='Tag',size=12,jitter=0.25)\n",
    "plt.xticks(rotation=60)\n",
    "plt.xlabel('')\n",
    "plt.ylabel('HAC')\n",
    "plt.axhline(9, color='#FF3300', linestyle='--')\n",
    "plt.axhline(14, color='#0093DD', linestyle='--')\n",
    "plt.legend(bbox_to_anchor=(.9, 1.15), ncol=3, borderaxespad=0, markerscale=3) # legend top center"
   ]
  }
 ],
 "metadata": {
  "kernelspec": {
   "display_name": "Python 3 (ipykernel)",
   "language": "python",
   "name": "python3"
  },
  "language_info": {
   "codemirror_mode": {
    "name": "ipython",
    "version": 3
   },
   "file_extension": ".py",
   "mimetype": "text/x-python",
   "name": "python",
   "nbconvert_exporter": "python",
   "pygments_lexer": "ipython3",
   "version": "3.11.13"
  }
 },
 "nbformat": 4,
 "nbformat_minor": 4
}
